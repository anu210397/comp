{
 "cells": [
  {
   "cell_type": "code",
   "execution_count": 1,
   "id": "6455e73a",
   "metadata": {},
   "outputs": [],
   "source": [
    "\n",
    "from geopy import distance\n",
    "import requests\n",
    "import pandas as pd\n",
    "import csv\n",
    "f1 = pd.read_csv('C:/Users/ECESIS/Desktop/miles/tax1.csv')\n",
    "f2 = pd.read_csv('C:/Users/ECESIS/Desktop/miles/comp_dummy.csv')"
   ]
  },
  {
   "cell_type": "code",
   "execution_count": 2,
   "id": "a9cb7ea1",
   "metadata": {},
   "outputs": [],
   "source": [
    "matching_county = (f2[f2.county.isin(f1.county)])\n",
    "#print(matching_county)"
   ]
  },
  {
   "cell_type": "code",
   "execution_count": 3,
   "id": "f45441ac",
   "metadata": {},
   "outputs": [],
   "source": [
    "order = matching_county.reset_index(drop=True)\n",
    "#print(order)"
   ]
  },
  {
   "cell_type": "code",
   "execution_count": 6,
   "id": "229ade05",
   "metadata": {},
   "outputs": [],
   "source": [
    "tax = f1.GLA\n",
    "tax1 = int(tax)\n",
    "\n",
    "#print((tax1))\n",
    "type(tax1)\n",
    "df = order.astype({'GLA':'int'})\n",
    "#print(df)\n",
    "#print(df.dtypes)\n",
    "#type(df)"
   ]
  },
  {
   "cell_type": "code",
   "execution_count": 8,
   "id": "004013a2",
   "metadata": {},
   "outputs": [
    {
     "name": "stdout",
     "output_type": "stream",
     "text": [
      "  City name State Zip code   List Date Original List Price  \\\n",
      "0  SANFORD,    FL    32773  07/08/2022           $325,000    \n",
      "1  SANFORD,    FL    32773  02/24/2022           $299,900    \n",
      "2  SANFORD,    FL    32773  05/08/2022           $335,550    \n",
      "\n",
      "   Current list price Closing Date sold price #Sale Terms   GLA  ...  #Bath  \\\n",
      "0           $325,000    07/29/2022  $296,450        Cash,  1292  ...      2   \n",
      "1           $299,900    04/06/2022  $300,000        Cash,  1292  ...      2   \n",
      "2           $335,550    06/03/2022  $345,000        Cash,  1376  ...      2   \n",
      "\n",
      "  Half bath  Garage       MLS    county  Sun division Status Pool  \\\n",
      "0         0       2  V4925413  Seminole      Seminole   Sold   no   \n",
      "1         0       2  O6006206  Seminole      Seminole   Sold   no   \n",
      "2         0       2  O6023893  Seminole      Seminole   Sold   no   \n",
      "\n",
      "              Type                                        Address  \n",
      "0  Single F amily   355 PLACID LAKE DRIVE, SANFORD, Florida 32773  \n",
      "1  Single F amily   359 PLACID LAKE DRIVE, SANFORD, Florida 32773  \n",
      "2  Single F amily   131 EDGEW ATER CIRCLE, SANFORD, Florida 32773  \n",
      "\n",
      "[3 rows x 24 columns]\n"
     ]
    }
   ],
   "source": [
    "if (1000 <tax1 <=1500) :\n",
    "    \n",
    "   \n",
    "    GLA = (df[(df['GLA'] >1200)  & (df['GLA'] <= 1400)]) \n",
    "    #print(GLA)\n",
    "    order_GLA = GLA.reset_index(drop=True)\n",
    "    print(order_GLA)\n",
    "else:\n",
    "    print(\"none\")"
   ]
  },
  {
   "cell_type": "code",
   "execution_count": 10,
   "id": "ef66d152",
   "metadata": {},
   "outputs": [
    {
     "name": "stdout",
     "output_type": "stream",
     "text": [
      "1997\n",
      "  City name State Zip code   List Date Original List Price  \\\n",
      "0  SANFORD,    FL    32773  07/08/2022           $325,000    \n",
      "1  SANFORD,    FL    32773  02/24/2022           $299,900    \n",
      "2  SANFORD,    FL    32773  05/08/2022           $335,550    \n",
      "\n",
      "   Current list price Closing Date sold price #Sale Terms   GLA  ...  #Bath  \\\n",
      "0           $325,000    07/29/2022  $296,450        Cash,  1292  ...      2   \n",
      "1           $299,900    04/06/2022  $300,000        Cash,  1292  ...      2   \n",
      "2           $335,550    06/03/2022  $345,000        Cash,  1376  ...      2   \n",
      "\n",
      "  Half bath  Garage       MLS    county  Sun division Status Pool  \\\n",
      "0         0       2  V4925413  Seminole      Seminole   Sold   no   \n",
      "1         0       2  O6006206  Seminole      Seminole   Sold   no   \n",
      "2         0       2  O6023893  Seminole      Seminole   Sold   no   \n",
      "\n",
      "              Type                                        Address  \n",
      "0  Single F amily   355 PLACID LAKE DRIVE, SANFORD, Florida 32773  \n",
      "1  Single F amily   359 PLACID LAKE DRIVE, SANFORD, Florida 32773  \n",
      "2  Single F amily   131 EDGEW ATER CIRCLE, SANFORD, Florida 32773  \n",
      "\n",
      "[3 rows x 24 columns]\n"
     ]
    }
   ],
   "source": [
    "df_1 = order_GLA.astype({' Year_ Built':'int'})\n",
    "yr_built = f1. Year_Built\n",
    "year__built = int(yr_built)\n",
    "\n",
    "print((year__built))\n",
    "type(year__built)\n",
    "if (1990 <year__built <=2000) :    \n",
    "    YB = (df_1[(df_1[' Year_ Built'] >1990)  & (df_1[' Year_ Built'] <= 2000)]) \n",
    "    print(YB)\n",
    "else:\n",
    "    print(\"none\")"
   ]
  },
  {
   "cell_type": "code",
   "execution_count": 16,
   "id": "639aadab",
   "metadata": {},
   "outputs": [],
   "source": [
    "YB.to_csv('C:/Users/ECESIS/Desktop/comp_selectio/comp.csv')"
   ]
  },
  {
   "cell_type": "code",
   "execution_count": null,
   "id": "93dbc830",
   "metadata": {},
   "outputs": [],
   "source": []
  }
 ],
 "metadata": {
  "kernelspec": {
   "display_name": "Python 3 (ipykernel)",
   "language": "python",
   "name": "python3"
  },
  "language_info": {
   "codemirror_mode": {
    "name": "ipython",
    "version": 3
   },
   "file_extension": ".py",
   "mimetype": "text/x-python",
   "name": "python",
   "nbconvert_exporter": "python",
   "pygments_lexer": "ipython3",
   "version": "3.9.13"
  }
 },
 "nbformat": 4,
 "nbformat_minor": 5
}
